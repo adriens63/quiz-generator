{
 "cells": [
  {
   "cell_type": "markdown",
   "id": "a11eaa8c-b571-4b35-9f47-2d46942b4b5c",
   "metadata": {
    "tags": []
   },
   "source": [
    "# Projet  **<span style=\"color: #CC146C\">Quiz generator </span>** 💡 - Python pour le data-scientist"
   ]
  },
  {
   "cell_type": "markdown",
   "id": "f97dc5b5-07c5-475d-ac20-3fb9152a49f5",
   "metadata": {},
   "source": [
    "#### Auteurs : Adrien Servière, Mélissa Tamine."
   ]
  },
  {
   "cell_type": "markdown",
   "id": "ec30fb31-5f64-4c4e-9443-bde900eeaa17",
   "metadata": {},
   "source": [
    "L'objectif de ce notebook est de présenter le projet que nous avons effectué dans le cadre de l'unité d'enseignement **Python pour le data-scientist** dispensée à l'ENSAE. Ce projet a été élaboré de manière libre et comporte, comme attendu, un **jeu de données** récupéré et traité, une partie **visualisation** et une partie **modélisation**. "
   ]
  },
  {
   "cell_type": "markdown",
   "id": "4e6b62f9-c142-4036-b5c4-fb3915b9b903",
   "metadata": {},
   "source": [
    "# Problématique"
   ]
  },
  {
   "cell_type": "markdown",
   "id": "787a66d9-30b4-4331-af01-c8b7e7593e91",
   "metadata": {},
   "source": [
    "Notre projet s'articule autour de la problématique suivante : **Comment créer un système capable de générer un quiz (plusieurs paires de question/réponse) sur un thème précis ?**\n",
    "\n",
    "Dans la mesure où l'objectif principal d'un quiz est d’évaluer les connaissances d’un participant, il nous a semblé qu'un tel système pourrait s'avérer très utile à des enseignants afin de tester de manière ludique les acquis de leurs élèves par exemple. \n",
    "\n",
    "C'est pourquoi nous avons modélisé la structure suivante afin que le système créé puisse répondre au problème :"
   ]
  },
  {
   "cell_type": "markdown",
   "id": "860f75d2-50c1-406d-a09a-a6eafa6b5045",
   "metadata": {},
   "source": [
    "![framework](./data/images/framework.png \"Structure du système implémenté\")"
   ]
  },
  {
   "cell_type": "markdown",
   "id": "6e7bcd72-8045-4205-a2df-6b2f4fdd9f43",
   "metadata": {},
   "source": [
    "La structure est divisée en deux parties distinctes : \n",
    "1. Une partie **traitement des données** qui a principalement consisté à extraire et indexer dans ElasticSearch la base de données Wikipédia sur laquelle le modèle se fonde.\n",
    "2. Une partie **modélisation** fondée sur la mise en place d'une *pipeline* formée de plusieurs outils de traitement du langage et modèles de langages."
   ]
  },
  {
   "cell_type": "markdown",
   "id": "a9a09790-dd34-480d-9530-f9e36639224d",
   "metadata": {},
   "source": [
    "# Installations et recommandations préalables"
   ]
  },
  {
   "cell_type": "markdown",
   "id": "128e7972-a683-4136-b641-3a6428d2667b",
   "metadata": {},
   "source": [
    "Avant d'exécuter veuillez procéder aux installations de modules nécessaires au bon fonctionnement du code en exécutant la cellule ci-dessous. "
   ]
  },
  {
   "cell_type": "code",
   "execution_count": 1,
   "id": "46a65bfd-541b-40cd-a353-29a53fc5b061",
   "metadata": {},
   "outputs": [],
   "source": [
    "#!pip install elasticsearch\n",
    "#!pip install wordcloud\n",
    "#!pip install torch"
   ]
  },
  {
   "cell_type": "markdown",
   "id": "f1e15cfb-021b-42a0-a0ac-dfac1098511d",
   "metadata": {},
   "source": [
    "De même, nous vous demanderons d'exécuter les cellules de ce notebook au sein d'un **espace de travail muni d'un service ElasticSearch préalablement exécuté** afin que la partie indexation puisse fonctionner. Nous vous conseillons d'utiliser **SSP Cloud** car la technologie ElasticSearch y est disponible."
   ]
  },
  {
   "cell_type": "markdown",
   "id": "0966f658-3b46-41e5-aa46-e3f673283c1f",
   "metadata": {
    "tags": []
   },
   "source": [
    "# Importation des modules utiles"
   ]
  },
  {
   "cell_type": "code",
   "execution_count": 2,
   "id": "d73a3a14-01af-4268-a62d-b233b4199d4d",
   "metadata": {},
   "outputs": [],
   "source": [
    "import os\n",
    "import sys\n",
    "import seaborn\n",
    "import matplotlib.pyplot as plt\n",
    "from wordcloud import WordCloud\n",
    "from collections import Counter\n",
    "from src.models.bm25_retriever import *\n",
    "from src.scripts.wikipedia_indexing import *"
   ]
  },
  {
   "cell_type": "markdown",
   "id": "07411616-6de1-44b4-934a-521c4e01accf",
   "metadata": {},
   "source": [
    "# Récupération et traitement des données 🗂️"
   ]
  },
  {
   "cell_type": "markdown",
   "id": "44ae3a12-5116-4899-916a-3bf8473273d6",
   "metadata": {},
   "source": [
    "## Extraction des données textuelles provenant de l'encyclopédie Wikipédia"
   ]
  },
  {
   "cell_type": "markdown",
   "id": "e4fa3865-0ab0-47e8-8d84-3653e7717b7f",
   "metadata": {},
   "source": [
    "La première étape de notre projet a été la **récupération** et le **traitement des données**. Dans notre cas, nous avons fait le choix de récupérer des données textuelles provenant d'articles de l'encyclopédie en ligne **Wikipédia**. \n",
    "\n",
    "Pour des raisons de volume, nous avons extrait les données brutes de la version en anglais simple de Wikipédia (en anglais : *Simple English Wikipedia*). Il s'agit d'une encyclopédie spécialement fondée pour « des étudiants, des enfants ou des adultes ayant des difficultés de compréhension et pour ceux qui souhaiteraient apprendre l'anglais ». En novembre 2021, date à laquelle nous avons extrait les données brutes, le site contenait plus de **200 000 pages** différentes."
   ]
  },
  {
   "cell_type": "markdown",
   "id": "bb0787d1-1d6e-4074-8795-70784c5e52e9",
   "metadata": {},
   "source": [
    "Afin d'extraire ces données brutes et de les convertir en données textuelles pouvant être exploitées, nous avons utilisé l'outil ```Wikiextractor``` (https://attardi.github.io/wikiextractor/) de la manière suivante dans un terminal :\n",
    "```\n",
    ">>> wget \"http://download.wikimedia.org/simplewiki/latest/simplewiki-latest-pages-articles.xml.bz2\"\n",
    "\n",
    ">>> python -m wikiextractor.WikiExtractor -o \"./quiz-generator/data/wikipedia/\" --json --processes 12 \"quiz-generator/data/wikipedia/simplewiki-latest-pages-articles.xml.bz2\"\n",
    "\n",
    ">>> rm \"./quiz-generator/data/wikipedia/simplewiki-latest-pages-articles.xml.bz2\"\n",
    "```"
   ]
  },
  {
   "cell_type": "markdown",
   "id": "dfaac05e-43f2-4af1-9aca-51033d2c58f0",
   "metadata": {},
   "source": [
    "Ces commandes nous ont permis d'obtenir les plus de 200 000 pages de données textuelles sous la forme de plusieurs fichiers .txt formatés comme des données au format JSON que vous trouverez dans le dossier *data* du projet."
   ]
  },
  {
   "cell_type": "markdown",
   "id": "7666371d-bfe1-4375-9fa9-30f7e1bd8101",
   "metadata": {},
   "source": [
    "## Indexation des données textuelles dans ElasticSearch"
   ]
  },
  {
   "cell_type": "markdown",
   "id": "ed12c2fe-c033-4c20-bd15-bb39905c2495",
   "metadata": {},
   "source": [
    "Une fois les données récupérées, il a ensuite fallu les traiter. Le traitement a principalement consisté à indexer ces données textuelles dans *ElasticSearch*. "
   ]
  },
  {
   "cell_type": "markdown",
   "id": "b4f805ca-fdd8-42cb-8510-870c77482908",
   "metadata": {},
   "source": [
    "ElasticSearch c’est un logiciel qui fournit un moteur de recherche installé sur un serveur (dans notre cas le serveur SSP Cloud) qu’il est possible de requêter depuis un client (ce Notebook en l'occurence). C’est un moteur de recherche très performant, puissant et flexible sur données textuelles. L'objectif de l'utilisation d'un tel outil est de trouver, dans un corpus de grande dimension, un certain texte. Dans notre cas, il s'agit de trouver les textes les plus pertinents sur un thème donné parmi l'ensemble des données textuelles comprises dans les 200 000 pages de données disponibles."
   ]
  },
  {
   "cell_type": "code",
   "execution_count": 2,
   "id": "b0c5ce34-4263-447c-a147-e78229acaba3",
   "metadata": {},
   "outputs": [],
   "source": [
    "es = set_es_client()"
   ]
  },
  {
   "cell_type": "code",
   "execution_count": 3,
   "id": "d88ff1f8-a745-4e4b-a203-8b8527758630",
   "metadata": {},
   "outputs": [
    {
     "name": "stderr",
     "output_type": "stream",
     "text": [
      "/opt/conda/lib/python3.9/site-packages/elasticsearch/connection/base.py:200: ElasticsearchWarning: Elasticsearch built-in security features are not enabled. Without authentication, your cluster could be accessible to anyone. See https://www.elastic.co/guide/en/elasticsearch/reference/7.13/security-minimal-setup.html to enable security.\n",
      "  warnings.warn(message, category=ElasticsearchWarning)\n",
      "Index wikipedia_english already exists, deleting the index.\n",
      "Processing wikipedia folder AA: 100%|██████████| 2/2 [06:43<00:00, 201.87s/it]\n"
     ]
    }
   ],
   "source": [
    "run_indexing(client=es, args=fill_default_args())"
   ]
  },
  {
   "cell_type": "code",
   "execution_count": 4,
   "id": "11abab9e-f58d-482d-b949-9e23c978cf6b",
   "metadata": {},
   "outputs": [],
   "source": [
    "bm25 = BM25Retriever(client=es)"
   ]
  },
  {
   "cell_type": "code",
   "execution_count": 14,
   "id": "a8896b8c-9a7a-45bd-9c98-a2aa6b23dcd4",
   "metadata": {},
   "outputs": [],
   "source": [
    "contexts = bm25.retrieve(query='kant')"
   ]
  },
  {
   "cell_type": "code",
   "execution_count": 16,
   "id": "861c33e2-24c1-4994-a28b-3d22869014d9",
   "metadata": {},
   "outputs": [
    {
     "data": {
      "text/plain": [
       "'In the early 20th century Kant\\'s ideas were very influential on one group of German philosophers. They became known as the new-Kantians. One of them, Windelband, said, \"every philosophy before Kant poured into Kant, and every philosophy after Kant pours from Kant\".'"
      ]
     },
     "execution_count": 16,
     "metadata": {},
     "output_type": "execute_result"
    }
   ],
   "source": [
    "contexts[0].text"
   ]
  },
  {
   "cell_type": "markdown",
   "id": "4b1cb0fa-fdd0-4057-89f4-940ae13163a8",
   "metadata": {},
   "source": [
    "# Visualisation des données 📊"
   ]
  },
  {
   "cell_type": "markdown",
   "id": "3df6aa21-cddc-43d5-bf41-5ba1331a6e82",
   "metadata": {},
   "source": [
    "# Modélisation 🔍"
   ]
  },
  {
   "cell_type": "code",
   "execution_count": null,
   "id": "e8383be0-fb9a-4c10-8234-9fbcf4ef0844",
   "metadata": {},
   "outputs": [],
   "source": []
  }
 ],
 "metadata": {
  "kernelspec": {
   "display_name": "Python 3 (ipykernel)",
   "language": "python",
   "name": "python3"
  },
  "language_info": {
   "codemirror_mode": {
    "name": "ipython",
    "version": 3
   },
   "file_extension": ".py",
   "mimetype": "text/x-python",
   "name": "python",
   "nbconvert_exporter": "python",
   "pygments_lexer": "ipython3",
   "version": "3.9.7"
  }
 },
 "nbformat": 4,
 "nbformat_minor": 5
}
