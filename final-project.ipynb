{
 "cells": [
  {
   "cell_type": "markdown",
   "id": "a11eaa8c-b571-4b35-9f47-2d46942b4b5c",
   "metadata": {
    "tags": []
   },
   "source": [
    "# Projet  **<span style=\"color: #DC143C\">Quiz generator </span>** 💡 - Python pour le data-scientist"
   ]
  },
  {
   "cell_type": "markdown",
   "id": "f97dc5b5-07c5-475d-ac20-3fb9152a49f5",
   "metadata": {},
   "source": [
    "#### Auteurs : Adrien Servière, Mélissa Tamine."
   ]
  },
  {
   "cell_type": "markdown",
   "id": "ec30fb31-5f64-4c4e-9443-bde900eeaa17",
   "metadata": {},
   "source": [
    "L'objectif de ce notebook est de présenter le projet que nous avons effectué dans le cadre de l'unité d'enseignement \"Python pour le data-scientist\" dispensée à l'ENSAE. Ce projet a été elaboré de manière libre et comporte, comme attendu, un **jeu de données**, une partie **visualisation** et une partie **modélisation**. "
   ]
  },
  {
   "cell_type": "code",
   "execution_count": 5,
   "id": "2e63eeca-4a4d-4621-a73d-2b2acb8a1374",
   "metadata": {},
   "outputs": [],
   "source": [
    "from src.data.data_format import *"
   ]
  },
  {
   "cell_type": "code",
   "execution_count": 34,
   "id": "2d50b301-ef9f-417d-b12a-96e96ffc200f",
   "metadata": {},
   "outputs": [],
   "source": [
    "contexte = Context(text=\"L'ENSAE Paris est spécialisée dans les mathématiques appliquées, la statistique, la science des données, et l'économie.\",\n",
    "                   meta=dict(url=\"https://fr.wikipedia.org/wiki/%C3%89cole_nationale_de_la_statistique_et_de_\\\n",
    "                   l%27administration_%C3%A9conomique\",\n",
    "                   document_title='ENSAE'))\n",
    "reponse = Answer(text=\"École polytechnique\", context=contexte)\n",
    "question = Question(text=\"De quelle grande école l'ENSAE est-elle une école d'application ?\", gold_answers=[reponse], predicted_answers=[reponse])"
   ]
  },
  {
   "cell_type": "code",
   "execution_count": 35,
   "id": "cc920c34-10bc-4e08-9c15-0132a0f9da4a",
   "metadata": {},
   "outputs": [
    {
     "name": "stdout",
     "output_type": "stream",
     "text": [
      "Contexte :\n",
      "\n",
      "L'ENSAE Paris est spécialisée dans les mathématiques appliquées, la statistique, la science des données, et l'économie.\n",
      "\n",
      "Question : De quelle grande école l'ENSAE est-elle une école d'application ?\n",
      "\n",
      "Réponses : \n",
      "\t1: École polytechnique\n"
     ]
    }
   ],
   "source": [
    "print(f'Contexte :\\n\\n{reponse.context.text}\\n')\n",
    "print(f'Question : {question.text}\\n')\n",
    "print('Réponses : \\n' + '\\n'.join(f'\\t{i + 1}: ' + str(ga.text) for i, ga in enumerate(question.gold_answers)))"
   ]
  },
  {
   "cell_type": "code",
   "execution_count": null,
   "id": "d73a3a14-01af-4268-a62d-b233b4199d4d",
   "metadata": {},
   "outputs": [],
   "source": []
  }
 ],
 "metadata": {
  "kernelspec": {
   "display_name": "Python 3 (ipykernel)",
   "language": "python",
   "name": "python3"
  },
  "language_info": {
   "codemirror_mode": {
    "name": "ipython",
    "version": 3
   },
   "file_extension": ".py",
   "mimetype": "text/x-python",
   "name": "python",
   "nbconvert_exporter": "python",
   "pygments_lexer": "ipython3",
   "version": "3.9.7"
  }
 },
 "nbformat": 4,
 "nbformat_minor": 5
}
