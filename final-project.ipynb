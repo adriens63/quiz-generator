{
 "cells": [
  {
   "cell_type": "markdown",
   "id": "a11eaa8c-b571-4b35-9f47-2d46942b4b5c",
   "metadata": {
    "tags": []
   },
   "source": [
    "# Projet  **<span style=\"color: #CC146C\">Quiz generator </span>** 💡 - Python pour le data-scientist"
   ]
  },
  {
   "cell_type": "markdown",
   "id": "f97dc5b5-07c5-475d-ac20-3fb9152a49f5",
   "metadata": {},
   "source": [
    "#### Auteurs : Adrien Servière, Mélissa Tamine."
   ]
  },
  {
   "cell_type": "markdown",
   "id": "ec30fb31-5f64-4c4e-9443-bde900eeaa17",
   "metadata": {},
   "source": [
    "L'objectif de ce notebook est de présenter le projet que nous avons effectué dans le cadre de l'unité d'enseignement **Python pour le data-scientist** dispensée à l'ENSAE. Ce projet a été élaboré de manière libre et comporte, comme attendu, un **jeu de données** récupéré et traité, une partie **visualisation** et une partie **modélisation**. "
   ]
  },
  {
   "cell_type": "markdown",
   "id": "4e6b62f9-c142-4036-b5c4-fb3915b9b903",
   "metadata": {},
   "source": [
    "# Problématique"
   ]
  },
  {
   "cell_type": "markdown",
   "id": "787a66d9-30b4-4331-af01-c8b7e7593e91",
   "metadata": {},
   "source": [
    "Notre projet s'articule autour de la problématique suivante : **Comment créer un système capable de générer un quiz (plusieurs paires de question/réponse) sur un thème précis ?**\n",
    "\n",
    "Dans la mesure où l'objectif principal d'un quiz est d’évaluer les connaissances d’un participant, il nous a semblé qu'un tel système pourrait s'avérer très utile à des enseignants afin de tester de manière ludique les acquis de leurs élèves par exemple. \n",
    "\n",
    "C'est pourquoi nous avons modélisé la structure suivante afin que le système créé puisse répondre au problème :"
   ]
  },
  {
   "cell_type": "markdown",
   "id": "860f75d2-50c1-406d-a09a-a6eafa6b5045",
   "metadata": {},
   "source": [
    "![framework](./data/images/framework.png \"Structure du système implémenté\")"
   ]
  },
  {
   "cell_type": "markdown",
   "id": "6e7bcd72-8045-4205-a2df-6b2f4fdd9f43",
   "metadata": {},
   "source": [
    "La structure est divisée en deux parties distinctes : \n",
    "1. Une partie **traitement des données** qui a principalement consisté à extraire et indexer dans ElasticSearch la base de données Wikipédia sur laquelle le modèle se fonde.\n",
    "2. Une partie **modélisation** fondée sur la mise en place d'une *pipeline* formée de plusieurs outils de traitement du langage et modèles de langages."
   ]
  },
  {
   "cell_type": "markdown",
   "id": "a9a09790-dd34-480d-9530-f9e36639224d",
   "metadata": {},
   "source": [
    "# Installations et recommandations préalables"
   ]
  },
  {
   "cell_type": "markdown",
   "id": "128e7972-a683-4136-b641-3a6428d2667b",
   "metadata": {},
   "source": [
    "Avant d'exécuter veuillez procéder aux installations de modules nécessaires au bon fonctionnement du code en exécutant la cellule ci-dessous. "
   ]
  },
  {
   "cell_type": "code",
   "execution_count": 19,
   "id": "46a65bfd-541b-40cd-a353-29a53fc5b061",
   "metadata": {},
   "outputs": [
    {
     "name": "stdout",
     "output_type": "stream",
     "text": [
      "Collecting elasticsearch\n",
      "  Downloading elasticsearch-7.16.2-py2.py3-none-any.whl (385 kB)\n",
      "     |████████████████████████████████| 385 kB 1.6 MB/s            \n",
      "\u001b[?25hRequirement already satisfied: certifi in /opt/conda/lib/python3.9/site-packages (from elasticsearch) (2021.10.8)\n",
      "Requirement already satisfied: urllib3<2,>=1.21.1 in /opt/conda/lib/python3.9/site-packages (from elasticsearch) (1.26.7)\n",
      "Installing collected packages: elasticsearch\n",
      "Successfully installed elasticsearch-7.16.2\n",
      "Collecting wordcloud\n",
      "  Downloading wordcloud-1.8.1-cp39-cp39-manylinux1_x86_64.whl (363 kB)\n",
      "     |████████████████████████████████| 363 kB 1.6 MB/s            \n",
      "\u001b[?25hRequirement already satisfied: matplotlib in /opt/conda/lib/python3.9/site-packages (from wordcloud) (3.4.3)\n",
      "Requirement already satisfied: numpy>=1.6.1 in /opt/conda/lib/python3.9/site-packages (from wordcloud) (1.20.3)\n",
      "Requirement already satisfied: pillow in /opt/conda/lib/python3.9/site-packages (from wordcloud) (8.3.2)\n",
      "Requirement already satisfied: python-dateutil>=2.7 in /opt/conda/lib/python3.9/site-packages (from matplotlib->wordcloud) (2.8.2)\n",
      "Requirement already satisfied: kiwisolver>=1.0.1 in /opt/conda/lib/python3.9/site-packages (from matplotlib->wordcloud) (1.3.2)\n",
      "Requirement already satisfied: cycler>=0.10 in /opt/conda/lib/python3.9/site-packages (from matplotlib->wordcloud) (0.10.0)\n",
      "Requirement already satisfied: pyparsing>=2.2.1 in /opt/conda/lib/python3.9/site-packages (from matplotlib->wordcloud) (2.4.7)\n",
      "Requirement already satisfied: six in /opt/conda/lib/python3.9/site-packages (from cycler>=0.10->matplotlib->wordcloud) (1.16.0)\n",
      "Installing collected packages: wordcloud\n",
      "Successfully installed wordcloud-1.8.1\n"
     ]
    }
   ],
   "source": [
    "!pip install elasticsearch\n",
    "!pip install wordcloud\n",
    "#!pip install torch"
   ]
  },
  {
   "cell_type": "markdown",
   "id": "f1e15cfb-021b-42a0-a0ac-dfac1098511d",
   "metadata": {},
   "source": [
    "De même, nous vous demanderons d'exécuter les cellules de ce notebook au sein d'un **espace de travail muni d'un service ElasticSearch préalablement exécuté** afin que la partie indexation puisse fonctionner. Nous vous conseillons d'utiliser **SSP Cloud** car la technologie ElasticSearch y est disponible."
   ]
  },
  {
   "cell_type": "markdown",
   "id": "0966f658-3b46-41e5-aa46-e3f673283c1f",
   "metadata": {
    "tags": []
   },
   "source": [
    "# Importation des modules utiles"
   ]
  },
  {
   "cell_type": "code",
   "execution_count": 20,
   "id": "d73a3a14-01af-4268-a62d-b233b4199d4d",
   "metadata": {},
   "outputs": [],
   "source": [
    "import os\n",
    "import sys\n",
    "import seaborn\n",
    "import matplotlib.pyplot as plt\n",
    "from wordcloud import WordCloud\n",
    "from collections import Counter\n",
    "from src.models.bm25_retriever import *\n",
    "from src.scripts.wikipedia_indexing import *"
   ]
  },
  {
   "cell_type": "markdown",
   "id": "07411616-6de1-44b4-934a-521c4e01accf",
   "metadata": {},
   "source": [
    "# Récupération et traitement des données 🗂️"
   ]
  },
  {
   "cell_type": "markdown",
   "id": "44ae3a12-5116-4899-916a-3bf8473273d6",
   "metadata": {},
   "source": [
    "## Extraction des données textuelles provenant de l'encyclopédie Wikipédia"
   ]
  },
  {
   "cell_type": "markdown",
   "id": "e4fa3865-0ab0-47e8-8d84-3653e7717b7f",
   "metadata": {},
   "source": [
    "La première étape de notre projet a été la **récupération** et le **traitement des données**. Dans notre cas, nous avons fait le choix de récupérer des données textuelles provenant d'articles de l'encyclopédie en ligne **Wikipédia**. \n",
    "\n",
    "Pour des raisons de volume, nous avons extrait les données brutes de la version en anglais simple de Wikipédia (en anglais : *Simple English Wikipedia*). Il s'agit d'une encyclopédie spécialement fondée pour « des étudiants, des enfants ou des adultes ayant des difficultés de compréhension et pour ceux qui souhaiteraient apprendre l'anglais ». En novembre 2021, date à laquelle nous avons extrait les données brutes, le site contenait plus de **200 000 pages** différentes."
   ]
  },
  {
   "cell_type": "markdown",
   "id": "bb0787d1-1d6e-4074-8795-70784c5e52e9",
   "metadata": {},
   "source": [
    "Afin d'extraire ces données brutes et de les convertir en données textuelles pouvant être exploitées, nous avons utilisé l'outil ```Wikiextractor``` (https://attardi.github.io/wikiextractor/) de la manière suivante dans un terminal :\n",
    "```\n",
    ">>> wget \"http://download.wikimedia.org/simplewiki/latest/simplewiki-latest-pages-articles.xml.bz2\"\n",
    "\n",
    ">>> python -m wikiextractor.WikiExtractor -o \"./quiz-generator/data/wikipedia/\" --json --processes 12 \"quiz-generator/data/wikipedia/simplewiki-latest-pages-articles.xml.bz2\"\n",
    "\n",
    ">>> rm \"./quiz-generator/data/wikipedia/simplewiki-latest-pages-articles.xml.bz2\"\n",
    "```"
   ]
  },
  {
   "cell_type": "markdown",
   "id": "dfaac05e-43f2-4af1-9aca-51033d2c58f0",
   "metadata": {},
   "source": [
    "Ces commandes nous ont permis d'obtenir les plus de 200 000 pages de données textuelles sous la forme de plusieurs fichiers .txt formatés comme des données au format JSON que vous trouverez dans le dossier *data* du projet."
   ]
  },
  {
   "cell_type": "markdown",
   "id": "7666371d-bfe1-4375-9fa9-30f7e1bd8101",
   "metadata": {},
   "source": [
    "## Indexation des données textuelles dans ElasticSearch"
   ]
  },
  {
   "cell_type": "markdown",
   "id": "ed12c2fe-c033-4c20-bd15-bb39905c2495",
   "metadata": {},
   "source": [
    "Une fois les données récupérées, il a ensuite fallu les traiter. Le traitement a principalement consisté à indexer ces données textuelles dans *ElasticSearch*. "
   ]
  },
  {
   "cell_type": "markdown",
   "id": "b4f805ca-fdd8-42cb-8510-870c77482908",
   "metadata": {},
   "source": [
    "ElasticSearch c’est un logiciel qui fournit un moteur de recherche installé sur un serveur (dans notre cas le serveur SSP Cloud) qu’il est possible de requêter depuis un client (ce Notebook en l'occurence). C’est un moteur de recherche très performant, puissant et flexible sur données textuelles. L'objectif de l'utilisation d'un tel outil est de trouver, dans un corpus de grande dimension, un certain texte. **Dans notre cas, il s'agit de trouver les textes les plus pertinents sur un thème donné parmi l'ensemble des données textuelles comprises dans les 200 000 pages de données disponibles.**"
   ]
  },
  {
   "cell_type": "markdown",
   "id": "cb7fc002-c7ac-4e57-a635-55d7e4e14f53",
   "metadata": {},
   "source": [
    "Nous utilisons la librairie python ```elasticsearch``` pour dialoguer avec notre moteur de recherche Elastic. La ligne de code ci-dessous permet d'établir la connexion avec le cluster Elastic que vous avez dû lancer dans votre session SSP Cloud lors de la phase de recommandation. "
   ]
  },
  {
   "cell_type": "code",
   "execution_count": 21,
   "id": "b0c5ce34-4263-447c-a147-e78229acaba3",
   "metadata": {},
   "outputs": [],
   "source": [
    "es = set_es_client()"
   ]
  },
  {
   "cell_type": "markdown",
   "id": "67394850-59a7-49e6-9c7e-de89420d385a",
   "metadata": {},
   "source": [
    "Maintenant que la connexion est établie, nous pouvons passer à l'étape **d'indexation**. Cette étape consiste à envoyer les documents parmi lesquels nous souhaitons chercher des echos pertinents dans notre elastic. Un index est donc une collection de document. Dans notre cas, les documents sont les paragraphes qui composent les articles du *Simple English Wikipedia*. "
   ]
  },
  {
   "cell_type": "markdown",
   "id": "fcf4feab-4830-429d-b2ee-48d511f48926",
   "metadata": {},
   "source": [
    "**Remarque :** L'exécution de la ligne suivante qui permet l'indexation est relativement longue, veuillez compter environ 7 minutes."
   ]
  },
  {
   "cell_type": "code",
   "execution_count": 40,
   "id": "d88ff1f8-a745-4e4b-a203-8b8527758630",
   "metadata": {},
   "outputs": [],
   "source": [
    "#run_indexing(client=es, args=fill_default_args())"
   ]
  },
  {
   "cell_type": "markdown",
   "id": "3aacf137-6a19-446c-80ef-f78e8469f177",
   "metadata": {},
   "source": [
    "## Exécution d'une première requête test"
   ]
  },
  {
   "cell_type": "markdown",
   "id": "ff05621f-c626-4033-b83c-c504083c2548",
   "metadata": {},
   "source": [
    "Maintenant que l'étape d'indexation est finalisée, il est désormais possible de lancer notre première **requête** c'est à dire de chercher les documents les plus pertinents à propos d'un thème (un certain mot). "
   ]
  },
  {
   "cell_type": "markdown",
   "id": "d7a5b8a7-98a3-4ecd-a1a1-42bf243e4119",
   "metadata": {},
   "source": [
    "Pour cela, nous utilisons l'algorithme BM25 que nous avons implémenté et qui utilise simplement la méthode interne de pondération des mots utilisée par ElasticSearch. La pertinence d’un mot pour notre recherche est construite sur une variante de la **TF-IDF**, considérant qu’un terme est pertinent s’il est souvent présent dans le document (Term Frequency) alors qu’il est peu fréquent dans les autres document (inverse document frequency)."
   ]
  },
  {
   "cell_type": "code",
   "execution_count": 23,
   "id": "11abab9e-f58d-482d-b949-9e23c978cf6b",
   "metadata": {},
   "outputs": [],
   "source": [
    "bm25 = BM25Retriever(client=es)"
   ]
  },
  {
   "cell_type": "markdown",
   "id": "80a9fc72-984e-4de1-89f1-a8069a045415",
   "metadata": {},
   "source": [
    "Nous décidons par exemple de chercher les documents c'est à dire les paragraphes inclus dans le *Simple English Wikipedia* les plus pertinents traitant du philosophe **Emmanuel Kant**."
   ]
  },
  {
   "cell_type": "code",
   "execution_count": 38,
   "id": "a8896b8c-9a7a-45bd-9c98-a2aa6b23dcd4",
   "metadata": {},
   "outputs": [],
   "source": [
    "contexts = bm25.retrieve(query='kant')\n",
    "text_contexts = [context.text for context in contexts]"
   ]
  },
  {
   "cell_type": "code",
   "execution_count": 39,
   "id": "9fc8fb87-bba8-4726-99c9-2ae79528dadc",
   "metadata": {},
   "outputs": [
    {
     "name": "stdout",
     "output_type": "stream",
     "text": [
      " \n",
      " ------ \n",
      "In the early 20th century Kant's ideas were very influential on one group of German philosophers. They became known as the new-Kantians. One of them, Windelband, said, \"every philosophy before Kant poured into Kant, and every philosophy after Kant pours from Kant\". \n",
      " ------ \n",
      "Some scholars like to include Kant as one of the German idealists, but Kant himself did not belong to that group. \n",
      " ------ \n",
      "The term was coined by Immanuel Kant. Kant said that moral values had to be unconditional, categorical; he wrote a categorical imperative. \n",
      " ------ \n",
      "The most-known work of Kant is the book \"Critique of Pure Reason\" (\"Kritik der reinen Vernunft\") that Kant published in 1781. Kant called his way of thought \"critique\", not philosophy. Kant said that critique was a preparation for establishment of real philosophy. According to Kant, people should know what human reason can do and which limits it has. In the \"Critique of Pure Reason\" Kant wrote several limits of human reason, to both feeling and thinking something. For sensation, there are two limits inside of human perception: space and time. There are no physical objects, but the limitations of our mind that work whenever we feel something through our senses. For thinking, he said there are twelve categories or pure rational concepts, divided into four fields: quantity, quality, relation and modality. Kant thought human reason applied those ideas to everything. \n",
      " ------ \n",
      "Kant read another thinker, named Jean-Jacques Rousseau. His thought on human beings, especially on morals, human freedom and perpetual peace, impressed Kant. \n",
      " ------ \n",
      "Kant wrote two other books named \"Critique\": \"Critique of the practical reason\" (1788) and \"Critique of the Judgement\" (1790). In \"Critique of the practical reason\" Kant wrote about the problem of freedom and God. It was his main work of ethics. In \"Critique of the Judgement\" Kant wrote about beauty and teleology, or the problem if there was a purpose in general, if the world, a living creature had a reason to exist, and so on. In both books, Kant said we could not answer those problems, because they were concerned with \"thing itself\". \n",
      " ------ \n",
      "Kant had a great influence on other thinkers. In the 19th century, German philosophers like Fichte, Schelling, Hegel, Schopenhauer and writers like Herder, Schiller, and Goethe were influenced by Kant. \n",
      " ------ \n",
      "Under the strong influence of the philosophical system of Leibniz and Wolff, Kant began to doubt the basic answers of past philosophers. Then, Kant read a Scottish philosopher, David Hume. Hume had tried to make clear what our experience had been, and had reached a very strong opinion called \"skepticism\", that there was nothing to make our experience sure. Kant was very shocked by Hume, and saw the theory he had learned in a new point of view. He began to try finding a third way other than the two that Kant called \"skepticism\" and \"dogmaticism\". \n",
      " ------ \n",
      "Immanuel Kant was born on April 22, 1724. In 1740 he entered the University of Königsberg and studied the philosophy of Gottfried Leibniz and his follower Christian Wolff. He studied there until 1746 when his father died, then left Königsberg to take up a job as tutor. He became the tutor of Count Kayserling and his family. In 1755 Kant became a lecturer and stayed in this position until 1770. He was made the second librarian of the Royal Library in 1766. Kant was eventually given the Chair of Logic and Metaphysics at the University of Königsberg. In his entire life Kant never travelled more than seventy miles from the city of Königsberg. Kant died on February 12, 1804 with the final words \"Es ist gut\" (\"It is good\"). \n",
      " ------ \n",
      "Another philosopher, Immanuel Kant, read some of Hume's books and changed his mind about some important things. Kant said Hume had made him wake up from a sleeping dogmatism, the traditional metaphysics.\n"
     ]
    }
   ],
   "source": [
    "nl = ' \\n ------ \\n'\n",
    "print(f\"{nl}{nl.join(text_contexts)}\")"
   ]
  },
  {
   "cell_type": "markdown",
   "id": "1fb8ab03-7f94-4764-88a6-c8b50bcc24e9",
   "metadata": {},
   "source": []
  },
  {
   "cell_type": "markdown",
   "id": "4b1cb0fa-fdd0-4057-89f4-940ae13163a8",
   "metadata": {},
   "source": [
    "# Visualisation des données 📊"
   ]
  },
  {
   "cell_type": "markdown",
   "id": "3df6aa21-cddc-43d5-bf41-5ba1331a6e82",
   "metadata": {},
   "source": [
    "# Modélisation 🔍"
   ]
  },
  {
   "cell_type": "code",
   "execution_count": null,
   "id": "e8383be0-fb9a-4c10-8234-9fbcf4ef0844",
   "metadata": {},
   "outputs": [],
   "source": []
  }
 ],
 "metadata": {
  "kernelspec": {
   "display_name": "Python 3 (ipykernel)",
   "language": "python",
   "name": "python3"
  },
  "language_info": {
   "codemirror_mode": {
    "name": "ipython",
    "version": 3
   },
   "file_extension": ".py",
   "mimetype": "text/x-python",
   "name": "python",
   "nbconvert_exporter": "python",
   "pygments_lexer": "ipython3",
   "version": "3.9.7"
  }
 },
 "nbformat": 4,
 "nbformat_minor": 5
}
