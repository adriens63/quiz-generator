{
 "cells": [
  {
   "cell_type": "markdown",
   "id": "a11eaa8c-b571-4b35-9f47-2d46942b4b5c",
   "metadata": {
    "tags": []
   },
   "source": [
    "# Projet  **<span style=\"color: #DC143C\">Quiz generator </span>** 💡 - Python pour le data-scientist"
   ]
  },
  {
   "cell_type": "markdown",
   "id": "f97dc5b5-07c5-475d-ac20-3fb9152a49f5",
   "metadata": {},
   "source": [
    "#### Auteurs : Adrien Servière, Mélissa Tamine."
   ]
  },
  {
   "cell_type": "markdown",
   "id": "ec30fb31-5f64-4c4e-9443-bde900eeaa17",
   "metadata": {},
   "source": [
    "L'objectif de ce notebook est de présenter le projet que nous avons effectué dans le cadre de l'unité d'enseignement **Python pour le data-scientist** dispensée à l'ENSAE. Ce projet a été elaboré de manière libre et comporte, comme attendu, un **jeu de données**, une partie **visualisation** et une partie **modélisation**. "
   ]
  },
  {
   "cell_type": "code",
   "execution_count": null,
   "id": "46a65bfd-541b-40cd-a353-29a53fc5b061",
   "metadata": {},
   "outputs": [],
   "source": [
    "pip install elasticsearch"
   ]
  },
  {
   "cell_type": "code",
   "execution_count": 1,
   "id": "d73a3a14-01af-4268-a62d-b233b4199d4d",
   "metadata": {},
   "outputs": [],
   "source": [
    "from src.scripts.wikipedia_indexing import *"
   ]
  },
  {
   "cell_type": "code",
   "execution_count": 2,
   "id": "b0c5ce34-4263-447c-a147-e78229acaba3",
   "metadata": {},
   "outputs": [],
   "source": [
    "es = set_es_client()"
   ]
  },
  {
   "cell_type": "code",
   "execution_count": 4,
   "id": "64db48df-52fa-4bd2-ae84-7684ab628e6c",
   "metadata": {},
   "outputs": [],
   "source": [
    "import os\n",
    "import sys\n",
    "project_dir = os.getcwd().split('src')[0]\n",
    "sys.path.append(project_dir)"
   ]
  },
  {
   "cell_type": "code",
   "execution_count": 5,
   "id": "2de68493-265c-4192-bd6d-08b76efbd42e",
   "metadata": {},
   "outputs": [],
   "source": [
    "args = {\"directory\": \"./data/wikipedia\",\n",
    "        \"batch_size\": 12,\n",
    "        \"min_len_paragraph\": 100 ,\n",
    "        \"language\": \"english\" \n",
    "        }"
   ]
  },
  {
   "cell_type": "code",
   "execution_count": 6,
   "id": "d88ff1f8-a745-4e4b-a203-8b8527758630",
   "metadata": {},
   "outputs": [
    {
     "name": "stderr",
     "output_type": "stream",
     "text": [
      "/opt/conda/lib/python3.9/site-packages/elasticsearch/connection/base.py:200: ElasticsearchWarning: Elasticsearch built-in security features are not enabled. Without authentication, your cluster could be accessible to anyone. See https://www.elastic.co/guide/en/elasticsearch/reference/7.13/security-minimal-setup.html to enable security.\n",
      "  warnings.warn(message, category=ElasticsearchWarning)\n",
      "Index wikipedia_english already exists, deleting the index.\n",
      "Processing wikipedia folder AA: 100%|██████████| 2/2 [06:40<00:00, 200.01s/it]\n"
     ]
    }
   ],
   "source": [
    "run_indexing(client=es, args=args)"
   ]
  },
  {
   "cell_type": "code",
   "execution_count": 7,
   "id": "14d7b2c9-73d7-4137-9647-55463a8f53c2",
   "metadata": {},
   "outputs": [],
   "source": [
    "from src.models.bm25_retriever import *"
   ]
  },
  {
   "cell_type": "code",
   "execution_count": 8,
   "id": "11abab9e-f58d-482d-b949-9e23c978cf6b",
   "metadata": {},
   "outputs": [],
   "source": [
    "bm25 = BM25Retriever(client=es)"
   ]
  },
  {
   "cell_type": "code",
   "execution_count": 9,
   "id": "a8896b8c-9a7a-45bd-9c98-a2aa6b23dcd4",
   "metadata": {},
   "outputs": [],
   "source": [
    "contexts = bm25.retrieve(query='dog')"
   ]
  },
  {
   "cell_type": "code",
   "execution_count": 11,
   "id": "861c33e2-24c1-4994-a28b-3d22869014d9",
   "metadata": {},
   "outputs": [
    {
     "data": {
      "text/plain": [
       "\"The twins' family has three dogs. Bubba is Dylan and Cole’s dog. Pinky is their father's dog. Curry is their stepmother's dog. Their favorite actor and co-star is Adam Sandler.\""
      ]
     },
     "execution_count": 11,
     "metadata": {},
     "output_type": "execute_result"
    }
   ],
   "source": [
    "contexts[9].text"
   ]
  },
  {
   "cell_type": "code",
   "execution_count": null,
   "id": "826a5e91-adbf-44d2-9996-5348283cf591",
   "metadata": {},
   "outputs": [],
   "source": []
  }
 ],
 "metadata": {
  "kernelspec": {
   "display_name": "Python 3 (ipykernel)",
   "language": "python",
   "name": "python3"
  },
  "language_info": {
   "codemirror_mode": {
    "name": "ipython",
    "version": 3
   },
   "file_extension": ".py",
   "mimetype": "text/x-python",
   "name": "python",
   "nbconvert_exporter": "python",
   "pygments_lexer": "ipython3",
   "version": "3.9.7"
  }
 },
 "nbformat": 4,
 "nbformat_minor": 5
}
